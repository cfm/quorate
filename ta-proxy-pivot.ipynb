{
 "cells": [
  {
   "cell_type": "markdown",
   "metadata": {},
   "source": [
    "* [`Proxy-native`](https://drive.google.com/file/d/1J5466mxfW0RDAO-P3JR59HcoZrYoD3AM/view?usp=sharing) (2018) is the version to use.  Avoid the older (2011) version floating around Google Drive.\n",
    "* The \"TA Proxy Board\" roster sorts by last name; Zoom sorts by full (thus effectively first) name.  Ask folks to label themselves \"Last, First\" for easier attendance-taking."
   ]
  },
  {
   "cell_type": "code",
   "execution_count": null,
   "metadata": {},
   "outputs": [],
   "source": [
    "with open('transcript.txt') as f:\n",
    "    transcript = f.read()"
   ]
  },
  {
   "cell_type": "code",
   "execution_count": null,
   "metadata": {
    "scrolled": true
   },
   "outputs": [],
   "source": [
    "# Group members represented by their proxy-holders\n",
    "\n",
    "lines = transcript.split('\\n')\n",
    "proxies = {}\n",
    "for line in lines:\n",
    "    if 'proxy' in line:\n",
    "        (represented, holder) = line.split('proxy')\n",
    "        represented = represented.strip()\n",
    "        holder = holder.strip()\n",
    "        try:\n",
    "            proxies[holder].append(represented)\n",
    "        except KeyError:\n",
    "            proxies[holder] = [represented]"
   ]
  },
  {
   "cell_type": "code",
   "execution_count": null,
   "metadata": {},
   "outputs": [],
   "source": [
    "# Sort the collection by proxy-holder\n",
    "\n",
    "from collections import OrderedDict\n",
    "\n",
    "holders = sorted(proxies.keys())\n",
    "proxies_sorted = OrderedDict()\n",
    "for holder in holders:\n",
    "    try:\n",
    "        proxies_sorted[holder] = proxies[holder]\n",
    "    except KeyError as exc:\n",
    "        print(f'No {exc} in {holders}')"
   ]
  },
  {
   "cell_type": "code",
   "execution_count": null,
   "metadata": {
    "scrolled": true
   },
   "outputs": [],
   "source": [
    "# Report back\n",
    "\n",
    "members_represented = [item for sublist in proxies_sorted.values() for item in sublist]\n",
    "print(f'''{len(members_represented)} members represented by proxy''')\n",
    "\n",
    "for (holder, holder_proxies) in proxies_sorted.items():\n",
    "    print(f'''{holder} holds {len(holder_proxies)} proxy/ies for {', '.join(holder_proxies)}''')"
   ]
  }
 ],
 "metadata": {
  "kernelspec": {
   "display_name": "Python 3",
   "language": "python",
   "name": "python3"
  },
  "language_info": {
   "codemirror_mode": {
    "name": "ipython",
    "version": 3
   },
   "file_extension": ".py",
   "mimetype": "text/x-python",
   "name": "python",
   "nbconvert_exporter": "python",
   "pygments_lexer": "ipython3",
   "version": "3.8.5"
  }
 },
 "nbformat": 4,
 "nbformat_minor": 1
}
